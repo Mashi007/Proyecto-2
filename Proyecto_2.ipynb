{
  "nbformat": 4,
  "nbformat_minor": 0,
  "metadata": {
    "colab": {
      "provenance": []
    },
    "kernelspec": {
      "name": "python3",
      "display_name": "Python 3"
    },
    "language_info": {
      "name": "python"
    }
  },
  "cells": [
    {
      "cell_type": "markdown",
      "source": [
        "---\n",
        "# **Base de Datos: 1**\n",
        "\n",
        "---"
      ],
      "metadata": {
        "id": "nkxWxW-TMsHB"
      }
    },
    {
      "cell_type": "markdown",
      "source": [
        "### 1. Fuentes de datos"
      ],
      "metadata": {
        "id": "KQVr9nuZMsEQ"
      }
    },
    {
      "cell_type": "markdown",
      "source": [
        "**Localización**: Anexo 1"
      ],
      "metadata": {
        "id": "lBGFbCp0PTOK"
      }
    },
    {
      "cell_type": "markdown",
      "source": [
        "Información de compañías de tarjetas de crédito a través de las cuales se pueden reconocer las transacciones de tarjetas de crédito fraudulentas para que a los clientes no se les cobre por artículos que no compraron."
      ],
      "metadata": {
        "id": "nKblvRdrPFZq"
      }
    },
    {
      "cell_type": "markdown",
      "source": [
        "Fuente: https://www.kaggle.com/datasets/mlg-ulb/creditcardfraud?resource=download"
      ],
      "metadata": {
        "id": "kRffNTDvO8nf"
      }
    },
    {
      "cell_type": "markdown",
      "source": [
        "### 2. Breve descripción de datos"
      ],
      "metadata": {
        "id": "oIeGQNsiMsB1"
      }
    },
    {
      "cell_type": "markdown",
      "source": [
        "El conjunto de datos contiene transacciones realizadas con tarjetas de crédito en septiembre de 2013 por titulares de tarjetas europeos.\n",
        "El conjunto de datos está muy desequilibrado, la clase positiva (fraudes) representa el 0,172 % de todas las transacciones.\n",
        "Contiene solo variables de entrada numéricas que son el resultado de una transformación PCA. Desafortunadamente, debido a problemas de confidencialidad, no podemos proporcionar las características originales ni más información general sobre los datos. Las características V1, V2, … V28 son los principales componentes obtenidos con PCA,\n",
        "las únicas características que no se han transformado con PCA son 'Tiempo' y 'Cantidad'. La característica 'Tiempo' contiene los segundos transcurridos entre cada transacción y la primera transacción en el conjunto de datos. La función 'Cantidad' es la cantidad de la transacción, esta función se puede utilizar para el aprendizaje sensible a los costos dependiente del ejemplo.\n",
        "Feature 'Class' es la variable de respuesta y toma valor 1 en caso de fraude y 0 en caso contrario.\n",
        "\n",
        "Dada la relación de desequilibrio de clase, recomendamos medir la precisión utilizando el área bajo la curva de recuperación de precisión (AUPRC). La precisión de la matriz de confusión no es significativa para la clasificación desequilibrada."
      ],
      "metadata": {
        "id": "vnayPF7bP74a"
      }
    },
    {
      "cell_type": "markdown",
      "source": [
        "### 3. ¿Cuál es el objetivo?"
      ],
      "metadata": {
        "id": "hJ4IybKmMr_d"
      }
    },
    {
      "cell_type": "markdown",
      "source": [
        "\n",
        "\n",
        "*   Determinar fraaudes existentes en el conjunto de 284,807 transacciones.\n",
        "\n"
      ],
      "metadata": {
        "id": "Y-WiXL11QE-o"
      }
    },
    {
      "cell_type": "markdown",
      "source": [
        "### 4. ¿Este es un problema de clasificación o regresión?"
      ],
      "metadata": {
        "id": "MwM5TpZyMr8-"
      }
    },
    {
      "cell_type": "markdown",
      "source": [
        "Es un problema de clasificación"
      ],
      "metadata": {
        "id": "sAIkrGmSQcyx"
      }
    },
    {
      "cell_type": "markdown",
      "source": [
        "### 5. ¿Cuántas características hay?"
      ],
      "metadata": {
        "id": "q-G3NxAiMr6W"
      }
    },
    {
      "cell_type": "code",
      "source": [
        "import pandas as pd\n",
        "\n",
        "# Importar el archivo CSV\n",
        "datos = pd.read_excel(\"/content/Base1.xlsx\")\n",
        "\n",
        "# Imprime las primeras filas del DataFrame\n",
        "datos.head()"
      ],
      "metadata": {
        "colab": {
          "base_uri": "https://localhost:8080/",
          "height": 303
        },
        "id": "QSmuUDI3Qr6k",
        "outputId": "2eb63f80-fe79-4bc3-b7bb-76f8564f0fbd"
      },
      "execution_count": 23,
      "outputs": [
        {
          "output_type": "execute_result",
          "data": {
            "text/plain": [
              "   Time            V1            V2            V3            V4        V5  \\\n",
              "0     0 -1.359807e+13 -7.278117e-02  2.536347e+14  1.378155e+14 -0.338321   \n",
              "1     0  1.191857e+14  2.661507e-01  1.664801e-01  4.481541e-01  0.060018   \n",
              "2     1 -1.358354e+14 -1.340163e+14  1.773209e+14  3.797796e-01 -0.503198   \n",
              "3     1 -9.662717e-01 -1.852260e-01  1.792993e+14 -8.632913e-01 -0.010309   \n",
              "\n",
              "             V6        V7        V8            V9  ...       V21       V22  \\\n",
              "0  4.623878e-01  0.239599  0.098698  3.637870e-01  ... -0.018307  0.277838   \n",
              "1 -8.236081e-02 -0.078803  0.085102 -2.554251e-01  ... -0.225775 -0.638672   \n",
              "2  1.800499e+14  0.791461  0.247676 -1.514654e+14  ...  0.247998  0.771679   \n",
              "3  1.247203e+14  0.237609  0.377436 -1.387024e+14  ... -0.108300  0.005274   \n",
              "\n",
              "        V23           V24       V25       V26       V27       V28  Amount  \\\n",
              "0 -0.110474  6.692807e-02  0.128539 -0.189115  0.133558 -0.021053  149.62   \n",
              "1  0.101288 -3.398465e-01  0.167170  0.125895 -0.008983  0.014724    2.69   \n",
              "2  0.909412 -6.892810e-01 -0.327642 -0.139097 -0.055353 -0.059752  378.66   \n",
              "3 -0.190321 -1.175575e+14  0.647376 -0.221929  0.062723  0.061458  123.50   \n",
              "\n",
              "   Class  \n",
              "0      0  \n",
              "1      0  \n",
              "2      0  \n",
              "3      0  \n",
              "\n",
              "[4 rows x 31 columns]"
            ],
            "text/html": [
              "\n",
              "  <div id=\"df-82701414-a56d-4ade-b0be-d82e8a2866cf\">\n",
              "    <div class=\"colab-df-container\">\n",
              "      <div>\n",
              "<style scoped>\n",
              "    .dataframe tbody tr th:only-of-type {\n",
              "        vertical-align: middle;\n",
              "    }\n",
              "\n",
              "    .dataframe tbody tr th {\n",
              "        vertical-align: top;\n",
              "    }\n",
              "\n",
              "    .dataframe thead th {\n",
              "        text-align: right;\n",
              "    }\n",
              "</style>\n",
              "<table border=\"1\" class=\"dataframe\">\n",
              "  <thead>\n",
              "    <tr style=\"text-align: right;\">\n",
              "      <th></th>\n",
              "      <th>Time</th>\n",
              "      <th>V1</th>\n",
              "      <th>V2</th>\n",
              "      <th>V3</th>\n",
              "      <th>V4</th>\n",
              "      <th>V5</th>\n",
              "      <th>V6</th>\n",
              "      <th>V7</th>\n",
              "      <th>V8</th>\n",
              "      <th>V9</th>\n",
              "      <th>...</th>\n",
              "      <th>V21</th>\n",
              "      <th>V22</th>\n",
              "      <th>V23</th>\n",
              "      <th>V24</th>\n",
              "      <th>V25</th>\n",
              "      <th>V26</th>\n",
              "      <th>V27</th>\n",
              "      <th>V28</th>\n",
              "      <th>Amount</th>\n",
              "      <th>Class</th>\n",
              "    </tr>\n",
              "  </thead>\n",
              "  <tbody>\n",
              "    <tr>\n",
              "      <th>0</th>\n",
              "      <td>0</td>\n",
              "      <td>-1.359807e+13</td>\n",
              "      <td>-7.278117e-02</td>\n",
              "      <td>2.536347e+14</td>\n",
              "      <td>1.378155e+14</td>\n",
              "      <td>-0.338321</td>\n",
              "      <td>4.623878e-01</td>\n",
              "      <td>0.239599</td>\n",
              "      <td>0.098698</td>\n",
              "      <td>3.637870e-01</td>\n",
              "      <td>...</td>\n",
              "      <td>-0.018307</td>\n",
              "      <td>0.277838</td>\n",
              "      <td>-0.110474</td>\n",
              "      <td>6.692807e-02</td>\n",
              "      <td>0.128539</td>\n",
              "      <td>-0.189115</td>\n",
              "      <td>0.133558</td>\n",
              "      <td>-0.021053</td>\n",
              "      <td>149.62</td>\n",
              "      <td>0</td>\n",
              "    </tr>\n",
              "    <tr>\n",
              "      <th>1</th>\n",
              "      <td>0</td>\n",
              "      <td>1.191857e+14</td>\n",
              "      <td>2.661507e-01</td>\n",
              "      <td>1.664801e-01</td>\n",
              "      <td>4.481541e-01</td>\n",
              "      <td>0.060018</td>\n",
              "      <td>-8.236081e-02</td>\n",
              "      <td>-0.078803</td>\n",
              "      <td>0.085102</td>\n",
              "      <td>-2.554251e-01</td>\n",
              "      <td>...</td>\n",
              "      <td>-0.225775</td>\n",
              "      <td>-0.638672</td>\n",
              "      <td>0.101288</td>\n",
              "      <td>-3.398465e-01</td>\n",
              "      <td>0.167170</td>\n",
              "      <td>0.125895</td>\n",
              "      <td>-0.008983</td>\n",
              "      <td>0.014724</td>\n",
              "      <td>2.69</td>\n",
              "      <td>0</td>\n",
              "    </tr>\n",
              "    <tr>\n",
              "      <th>2</th>\n",
              "      <td>1</td>\n",
              "      <td>-1.358354e+14</td>\n",
              "      <td>-1.340163e+14</td>\n",
              "      <td>1.773209e+14</td>\n",
              "      <td>3.797796e-01</td>\n",
              "      <td>-0.503198</td>\n",
              "      <td>1.800499e+14</td>\n",
              "      <td>0.791461</td>\n",
              "      <td>0.247676</td>\n",
              "      <td>-1.514654e+14</td>\n",
              "      <td>...</td>\n",
              "      <td>0.247998</td>\n",
              "      <td>0.771679</td>\n",
              "      <td>0.909412</td>\n",
              "      <td>-6.892810e-01</td>\n",
              "      <td>-0.327642</td>\n",
              "      <td>-0.139097</td>\n",
              "      <td>-0.055353</td>\n",
              "      <td>-0.059752</td>\n",
              "      <td>378.66</td>\n",
              "      <td>0</td>\n",
              "    </tr>\n",
              "    <tr>\n",
              "      <th>3</th>\n",
              "      <td>1</td>\n",
              "      <td>-9.662717e-01</td>\n",
              "      <td>-1.852260e-01</td>\n",
              "      <td>1.792993e+14</td>\n",
              "      <td>-8.632913e-01</td>\n",
              "      <td>-0.010309</td>\n",
              "      <td>1.247203e+14</td>\n",
              "      <td>0.237609</td>\n",
              "      <td>0.377436</td>\n",
              "      <td>-1.387024e+14</td>\n",
              "      <td>...</td>\n",
              "      <td>-0.108300</td>\n",
              "      <td>0.005274</td>\n",
              "      <td>-0.190321</td>\n",
              "      <td>-1.175575e+14</td>\n",
              "      <td>0.647376</td>\n",
              "      <td>-0.221929</td>\n",
              "      <td>0.062723</td>\n",
              "      <td>0.061458</td>\n",
              "      <td>123.50</td>\n",
              "      <td>0</td>\n",
              "    </tr>\n",
              "  </tbody>\n",
              "</table>\n",
              "<p>4 rows × 31 columns</p>\n",
              "</div>\n",
              "      <button class=\"colab-df-convert\" onclick=\"convertToInteractive('df-82701414-a56d-4ade-b0be-d82e8a2866cf')\"\n",
              "              title=\"Convert this dataframe to an interactive table.\"\n",
              "              style=\"display:none;\">\n",
              "        \n",
              "  <svg xmlns=\"http://www.w3.org/2000/svg\" height=\"24px\"viewBox=\"0 0 24 24\"\n",
              "       width=\"24px\">\n",
              "    <path d=\"M0 0h24v24H0V0z\" fill=\"none\"/>\n",
              "    <path d=\"M18.56 5.44l.94 2.06.94-2.06 2.06-.94-2.06-.94-.94-2.06-.94 2.06-2.06.94zm-11 1L8.5 8.5l.94-2.06 2.06-.94-2.06-.94L8.5 2.5l-.94 2.06-2.06.94zm10 10l.94 2.06.94-2.06 2.06-.94-2.06-.94-.94-2.06-.94 2.06-2.06.94z\"/><path d=\"M17.41 7.96l-1.37-1.37c-.4-.4-.92-.59-1.43-.59-.52 0-1.04.2-1.43.59L10.3 9.45l-7.72 7.72c-.78.78-.78 2.05 0 2.83L4 21.41c.39.39.9.59 1.41.59.51 0 1.02-.2 1.41-.59l7.78-7.78 2.81-2.81c.8-.78.8-2.07 0-2.86zM5.41 20L4 18.59l7.72-7.72 1.47 1.35L5.41 20z\"/>\n",
              "  </svg>\n",
              "      </button>\n",
              "      \n",
              "  <style>\n",
              "    .colab-df-container {\n",
              "      display:flex;\n",
              "      flex-wrap:wrap;\n",
              "      gap: 12px;\n",
              "    }\n",
              "\n",
              "    .colab-df-convert {\n",
              "      background-color: #E8F0FE;\n",
              "      border: none;\n",
              "      border-radius: 50%;\n",
              "      cursor: pointer;\n",
              "      display: none;\n",
              "      fill: #1967D2;\n",
              "      height: 32px;\n",
              "      padding: 0 0 0 0;\n",
              "      width: 32px;\n",
              "    }\n",
              "\n",
              "    .colab-df-convert:hover {\n",
              "      background-color: #E2EBFA;\n",
              "      box-shadow: 0px 1px 2px rgba(60, 64, 67, 0.3), 0px 1px 3px 1px rgba(60, 64, 67, 0.15);\n",
              "      fill: #174EA6;\n",
              "    }\n",
              "\n",
              "    [theme=dark] .colab-df-convert {\n",
              "      background-color: #3B4455;\n",
              "      fill: #D2E3FC;\n",
              "    }\n",
              "\n",
              "    [theme=dark] .colab-df-convert:hover {\n",
              "      background-color: #434B5C;\n",
              "      box-shadow: 0px 1px 3px 1px rgba(0, 0, 0, 0.15);\n",
              "      filter: drop-shadow(0px 1px 2px rgba(0, 0, 0, 0.3));\n",
              "      fill: #FFFFFF;\n",
              "    }\n",
              "  </style>\n",
              "\n",
              "      <script>\n",
              "        const buttonEl =\n",
              "          document.querySelector('#df-82701414-a56d-4ade-b0be-d82e8a2866cf button.colab-df-convert');\n",
              "        buttonEl.style.display =\n",
              "          google.colab.kernel.accessAllowed ? 'block' : 'none';\n",
              "\n",
              "        async function convertToInteractive(key) {\n",
              "          const element = document.querySelector('#df-82701414-a56d-4ade-b0be-d82e8a2866cf');\n",
              "          const dataTable =\n",
              "            await google.colab.kernel.invokeFunction('convertToInteractive',\n",
              "                                                     [key], {});\n",
              "          if (!dataTable) return;\n",
              "\n",
              "          const docLinkHtml = 'Like what you see? Visit the ' +\n",
              "            '<a target=\"_blank\" href=https://colab.research.google.com/notebooks/data_table.ipynb>data table notebook</a>'\n",
              "            + ' to learn more about interactive tables.';\n",
              "          element.innerHTML = '';\n",
              "          dataTable['output_type'] = 'display_data';\n",
              "          await google.colab.output.renderOutput(dataTable, element);\n",
              "          const docLink = document.createElement('div');\n",
              "          docLink.innerHTML = docLinkHtml;\n",
              "          element.appendChild(docLink);\n",
              "        }\n",
              "      </script>\n",
              "    </div>\n",
              "  </div>\n",
              "  "
            ]
          },
          "metadata": {},
          "execution_count": 23
        }
      ]
    },
    {
      "cell_type": "markdown",
      "source": [
        "### 6. ¿Cuántas filas de datos hay?"
      ],
      "metadata": {
        "id": "UigqUo0hMrqX"
      }
    },
    {
      "cell_type": "markdown",
      "source": [
        "Hay 284808 filas y 31 columnas"
      ],
      "metadata": {
        "id": "6SAVKURucjjQ"
      }
    },
    {
      "cell_type": "markdown",
      "source": [
        "### 7. ¿Qué retos, si es que hay alguno, prevén en la limpieza, exploración o modelización con este conjunto de datos?"
      ],
      "metadata": {
        "id": "3gDXXWuhOqBV"
      }
    },
    {
      "cell_type": "markdown",
      "source": [
        "En la modelación existe retos de identificar patrones en los cuales se pueda verificar fraudes"
      ],
      "metadata": {
        "id": "90LKzoxxQxlg"
      }
    },
    {
      "cell_type": "markdown",
      "source": [
        "---\n",
        "# **Base de Datos: 2**\n",
        "\n",
        "---"
      ],
      "metadata": {
        "id": "b07GA1a5Ow2e"
      }
    },
    {
      "cell_type": "markdown",
      "source": [
        "### 1. Fuentes de datos"
      ],
      "metadata": {
        "id": "v__7ro9mOzyA"
      }
    },
    {
      "cell_type": "markdown",
      "source": [
        "**Localización**: Anexo 2"
      ],
      "metadata": {
        "id": "JHlIEmRhSv9i"
      }
    },
    {
      "cell_type": "markdown",
      "source": [
        "Información de paises que identofican niveles de produccion en los ultimos 40 años en America Latina"
      ],
      "metadata": {
        "id": "8MrMG9GiTcFO"
      }
    },
    {
      "cell_type": "markdown",
      "source": [
        "Fuente: https://www.fao.org/faostat/en/#data/QI"
      ],
      "metadata": {
        "id": "ZWvsS8daStrU"
      }
    },
    {
      "cell_type": "markdown",
      "source": [
        "### 2. Breve descripción de datos"
      ],
      "metadata": {
        "id": "7UddHZtJOzyB"
      }
    },
    {
      "cell_type": "markdown",
      "source": [
        "Se plantea los niveles de producción por país. El nivel de detalle describe la produccion en mas de 20 productos. Muestra la variación en 40 años."
      ],
      "metadata": {
        "id": "pzvlXTcuT1kf"
      }
    },
    {
      "cell_type": "markdown",
      "source": [
        "### 3. ¿Cuál es el objetivo?"
      ],
      "metadata": {
        "id": "dKKBgp8MOzyC"
      }
    },
    {
      "cell_type": "markdown",
      "source": [
        "\n",
        "\n",
        "*   Determinar los niveles de producción por país y las posibles repecuciones en la seguridad alimentaria del Ecuador\n",
        "\n"
      ],
      "metadata": {
        "id": "kKUUK793Xo2Q"
      }
    },
    {
      "cell_type": "markdown",
      "source": [
        "### 4. ¿Este es un problema de clasificación o regresión?"
      ],
      "metadata": {
        "id": "g9BevXk8OzyE"
      }
    },
    {
      "cell_type": "markdown",
      "source": [
        "Es un problema de regresión"
      ],
      "metadata": {
        "id": "HZeNsAybX4hY"
      }
    },
    {
      "cell_type": "markdown",
      "source": [
        "### 5. ¿Cuántas características hay?"
      ],
      "metadata": {
        "id": "xtl5Chc1OzyE"
      }
    },
    {
      "cell_type": "code",
      "source": [
        "import pandas as pd\n",
        "\n",
        "# Importar el archivo CSV\n",
        "df = pd.read_excel(\"/content/Base2.xlsx\")\n",
        "\n",
        "\n",
        "# Imprime las primeras filas del DataFrame\n",
        "df.head()"
      ],
      "metadata": {
        "colab": {
          "base_uri": "https://localhost:8080/",
          "height": 376
        },
        "id": "VkaKi-8zYArI",
        "outputId": "328479bc-56c2-4d11-e003-be7378483ed3"
      },
      "execution_count": 19,
      "outputs": [
        {
          "output_type": "execute_result",
          "data": {
            "text/plain": [
              "   Area Code Area Code (M49)                 Area  Item Code Item Code (CPC)  \\\n",
              "0          8            '028  Antigua and Barbuda       1107          '02132   \n",
              "1          8            '028  Antigua and Barbuda        486          '01312   \n",
              "2          8            '028  Antigua and Barbuda        486          '01312   \n",
              "\n",
              "      Item  Element Code         Element   Unit         Y1961  ...  \\\n",
              "0    Asses          5111          Stocks   Head  2.300000e+09  ...   \n",
              "1  Bananas          5312  Area harvested     ha           NaN  ...   \n",
              "2  Bananas          5419           Yield  hg/ha           NaN  ...   \n",
              "\n",
              "         Y2012        Y2013        Y2014        Y2015        Y2016  \\\n",
              "0   1700000000   1700000000   1700000000   1703000000   1707000000   \n",
              "1     35000000     32000000     35000000     37000000     41000000   \n",
              "2  71429000000  79454000000  73603000000  70714000000  56432000000   \n",
              "\n",
              "         Y2017        Y2018        Y2019       Y2020       Y2021  \n",
              "0   1713000000   1729000000   1729000000  1733000000  1738000000  \n",
              "1     44000000     43000000     39000000    11000000    25000000  \n",
              "2  41910000000  29917000000  17930000000  4159000000  1972000000  \n",
              "\n",
              "[3 rows x 64 columns]"
            ],
            "text/html": [
              "\n",
              "  <div id=\"df-3e7d2dc8-c7f9-4e40-afe9-cf99155b7976\">\n",
              "    <div class=\"colab-df-container\">\n",
              "      <div>\n",
              "<style scoped>\n",
              "    .dataframe tbody tr th:only-of-type {\n",
              "        vertical-align: middle;\n",
              "    }\n",
              "\n",
              "    .dataframe tbody tr th {\n",
              "        vertical-align: top;\n",
              "    }\n",
              "\n",
              "    .dataframe thead th {\n",
              "        text-align: right;\n",
              "    }\n",
              "</style>\n",
              "<table border=\"1\" class=\"dataframe\">\n",
              "  <thead>\n",
              "    <tr style=\"text-align: right;\">\n",
              "      <th></th>\n",
              "      <th>Area Code</th>\n",
              "      <th>Area Code (M49)</th>\n",
              "      <th>Area</th>\n",
              "      <th>Item Code</th>\n",
              "      <th>Item Code (CPC)</th>\n",
              "      <th>Item</th>\n",
              "      <th>Element Code</th>\n",
              "      <th>Element</th>\n",
              "      <th>Unit</th>\n",
              "      <th>Y1961</th>\n",
              "      <th>...</th>\n",
              "      <th>Y2012</th>\n",
              "      <th>Y2013</th>\n",
              "      <th>Y2014</th>\n",
              "      <th>Y2015</th>\n",
              "      <th>Y2016</th>\n",
              "      <th>Y2017</th>\n",
              "      <th>Y2018</th>\n",
              "      <th>Y2019</th>\n",
              "      <th>Y2020</th>\n",
              "      <th>Y2021</th>\n",
              "    </tr>\n",
              "  </thead>\n",
              "  <tbody>\n",
              "    <tr>\n",
              "      <th>0</th>\n",
              "      <td>8</td>\n",
              "      <td>'028</td>\n",
              "      <td>Antigua and Barbuda</td>\n",
              "      <td>1107</td>\n",
              "      <td>'02132</td>\n",
              "      <td>Asses</td>\n",
              "      <td>5111</td>\n",
              "      <td>Stocks</td>\n",
              "      <td>Head</td>\n",
              "      <td>2.300000e+09</td>\n",
              "      <td>...</td>\n",
              "      <td>1700000000</td>\n",
              "      <td>1700000000</td>\n",
              "      <td>1700000000</td>\n",
              "      <td>1703000000</td>\n",
              "      <td>1707000000</td>\n",
              "      <td>1713000000</td>\n",
              "      <td>1729000000</td>\n",
              "      <td>1729000000</td>\n",
              "      <td>1733000000</td>\n",
              "      <td>1738000000</td>\n",
              "    </tr>\n",
              "    <tr>\n",
              "      <th>1</th>\n",
              "      <td>8</td>\n",
              "      <td>'028</td>\n",
              "      <td>Antigua and Barbuda</td>\n",
              "      <td>486</td>\n",
              "      <td>'01312</td>\n",
              "      <td>Bananas</td>\n",
              "      <td>5312</td>\n",
              "      <td>Area harvested</td>\n",
              "      <td>ha</td>\n",
              "      <td>NaN</td>\n",
              "      <td>...</td>\n",
              "      <td>35000000</td>\n",
              "      <td>32000000</td>\n",
              "      <td>35000000</td>\n",
              "      <td>37000000</td>\n",
              "      <td>41000000</td>\n",
              "      <td>44000000</td>\n",
              "      <td>43000000</td>\n",
              "      <td>39000000</td>\n",
              "      <td>11000000</td>\n",
              "      <td>25000000</td>\n",
              "    </tr>\n",
              "    <tr>\n",
              "      <th>2</th>\n",
              "      <td>8</td>\n",
              "      <td>'028</td>\n",
              "      <td>Antigua and Barbuda</td>\n",
              "      <td>486</td>\n",
              "      <td>'01312</td>\n",
              "      <td>Bananas</td>\n",
              "      <td>5419</td>\n",
              "      <td>Yield</td>\n",
              "      <td>hg/ha</td>\n",
              "      <td>NaN</td>\n",
              "      <td>...</td>\n",
              "      <td>71429000000</td>\n",
              "      <td>79454000000</td>\n",
              "      <td>73603000000</td>\n",
              "      <td>70714000000</td>\n",
              "      <td>56432000000</td>\n",
              "      <td>41910000000</td>\n",
              "      <td>29917000000</td>\n",
              "      <td>17930000000</td>\n",
              "      <td>4159000000</td>\n",
              "      <td>1972000000</td>\n",
              "    </tr>\n",
              "  </tbody>\n",
              "</table>\n",
              "<p>3 rows × 64 columns</p>\n",
              "</div>\n",
              "      <button class=\"colab-df-convert\" onclick=\"convertToInteractive('df-3e7d2dc8-c7f9-4e40-afe9-cf99155b7976')\"\n",
              "              title=\"Convert this dataframe to an interactive table.\"\n",
              "              style=\"display:none;\">\n",
              "        \n",
              "  <svg xmlns=\"http://www.w3.org/2000/svg\" height=\"24px\"viewBox=\"0 0 24 24\"\n",
              "       width=\"24px\">\n",
              "    <path d=\"M0 0h24v24H0V0z\" fill=\"none\"/>\n",
              "    <path d=\"M18.56 5.44l.94 2.06.94-2.06 2.06-.94-2.06-.94-.94-2.06-.94 2.06-2.06.94zm-11 1L8.5 8.5l.94-2.06 2.06-.94-2.06-.94L8.5 2.5l-.94 2.06-2.06.94zm10 10l.94 2.06.94-2.06 2.06-.94-2.06-.94-.94-2.06-.94 2.06-2.06.94z\"/><path d=\"M17.41 7.96l-1.37-1.37c-.4-.4-.92-.59-1.43-.59-.52 0-1.04.2-1.43.59L10.3 9.45l-7.72 7.72c-.78.78-.78 2.05 0 2.83L4 21.41c.39.39.9.59 1.41.59.51 0 1.02-.2 1.41-.59l7.78-7.78 2.81-2.81c.8-.78.8-2.07 0-2.86zM5.41 20L4 18.59l7.72-7.72 1.47 1.35L5.41 20z\"/>\n",
              "  </svg>\n",
              "      </button>\n",
              "      \n",
              "  <style>\n",
              "    .colab-df-container {\n",
              "      display:flex;\n",
              "      flex-wrap:wrap;\n",
              "      gap: 12px;\n",
              "    }\n",
              "\n",
              "    .colab-df-convert {\n",
              "      background-color: #E8F0FE;\n",
              "      border: none;\n",
              "      border-radius: 50%;\n",
              "      cursor: pointer;\n",
              "      display: none;\n",
              "      fill: #1967D2;\n",
              "      height: 32px;\n",
              "      padding: 0 0 0 0;\n",
              "      width: 32px;\n",
              "    }\n",
              "\n",
              "    .colab-df-convert:hover {\n",
              "      background-color: #E2EBFA;\n",
              "      box-shadow: 0px 1px 2px rgba(60, 64, 67, 0.3), 0px 1px 3px 1px rgba(60, 64, 67, 0.15);\n",
              "      fill: #174EA6;\n",
              "    }\n",
              "\n",
              "    [theme=dark] .colab-df-convert {\n",
              "      background-color: #3B4455;\n",
              "      fill: #D2E3FC;\n",
              "    }\n",
              "\n",
              "    [theme=dark] .colab-df-convert:hover {\n",
              "      background-color: #434B5C;\n",
              "      box-shadow: 0px 1px 3px 1px rgba(0, 0, 0, 0.15);\n",
              "      filter: drop-shadow(0px 1px 2px rgba(0, 0, 0, 0.3));\n",
              "      fill: #FFFFFF;\n",
              "    }\n",
              "  </style>\n",
              "\n",
              "      <script>\n",
              "        const buttonEl =\n",
              "          document.querySelector('#df-3e7d2dc8-c7f9-4e40-afe9-cf99155b7976 button.colab-df-convert');\n",
              "        buttonEl.style.display =\n",
              "          google.colab.kernel.accessAllowed ? 'block' : 'none';\n",
              "\n",
              "        async function convertToInteractive(key) {\n",
              "          const element = document.querySelector('#df-3e7d2dc8-c7f9-4e40-afe9-cf99155b7976');\n",
              "          const dataTable =\n",
              "            await google.colab.kernel.invokeFunction('convertToInteractive',\n",
              "                                                     [key], {});\n",
              "          if (!dataTable) return;\n",
              "\n",
              "          const docLinkHtml = 'Like what you see? Visit the ' +\n",
              "            '<a target=\"_blank\" href=https://colab.research.google.com/notebooks/data_table.ipynb>data table notebook</a>'\n",
              "            + ' to learn more about interactive tables.';\n",
              "          element.innerHTML = '';\n",
              "          dataTable['output_type'] = 'display_data';\n",
              "          await google.colab.output.renderOutput(dataTable, element);\n",
              "          const docLink = document.createElement('div');\n",
              "          docLink.innerHTML = docLinkHtml;\n",
              "          element.appendChild(docLink);\n",
              "        }\n",
              "      </script>\n",
              "    </div>\n",
              "  </div>\n",
              "  "
            ]
          },
          "metadata": {},
          "execution_count": 19
        }
      ]
    },
    {
      "cell_type": "markdown",
      "source": [
        "### 6. ¿Cuántas filas de datos hay?"
      ],
      "metadata": {
        "id": "lVtj5cXAOzyE"
      }
    },
    {
      "cell_type": "markdown",
      "source": [
        "Tiene 11282 filas y 64 columnas"
      ],
      "metadata": {
        "id": "uEgI0afBb5QV"
      }
    },
    {
      "cell_type": "markdown",
      "source": [
        "### 7. ¿Qué retos, si es que hay alguno, prevén en la limpieza, exploración o modelización con este conjunto de datos?"
      ],
      "metadata": {
        "id": "kGMga8sFOzyF"
      }
    },
    {
      "cell_type": "markdown",
      "source": [
        "Verificar celdas vacias e inconsistencias entre los añoss 1961 y 1980, dados los mecanismos de almacenamiento de datos"
      ],
      "metadata": {
        "id": "EXdJgB1FYJCE"
      }
    }
  ]
}